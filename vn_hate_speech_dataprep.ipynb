{
 "cells": [
  {
   "cell_type": "markdown",
   "id": "1c03ade6-edbf-4d16-82c4-ddc4a0a10cd7",
   "metadata": {},
   "source": [
    "# VIETNAMESE HATE AND OFFENSIVE SPEECH DETECTOR\n",
    "## (Data Preparation)"
   ]
  },
  {
   "cell_type": "markdown",
   "id": "5dd5adb0",
   "metadata": {},
   "source": [
    "### Download VnCoreNLP"
   ]
  },
  {
   "cell_type": "code",
   "execution_count": null,
   "id": "ac00d662",
   "metadata": {},
   "outputs": [],
   "source": [
    "!mkdir -p models/vncorenlp/models/wordsegmenter\n",
    "!wget https://raw.githubusercontent.com/vncorenlp/VnCoreNLP/master/VnCoreNLP-1.1.1.jar\n",
    "!wget https://raw.githubusercontent.com/vncorenlp/VnCoreNLP/master/models/wordsegmenter/vi-vocab\n",
    "!wget https://raw.githubusercontent.com/vncorenlp/VnCoreNLP/master/models/wordsegmenter/wordsegmenter.rdr\n",
    "!mv VnCoreNLP-1.1.1.jar models/vncorenlp/\n",
    "!mv vi-vocab models/vncorenlp/models/wordsegmenter/\n",
    "!mv wordsegmenter.rdr models/vncorenlp/models/wordsegmenter/"
   ]
  },
  {
   "cell_type": "code",
   "execution_count": null,
   "id": "2c4c1bf3",
   "metadata": {},
   "outputs": [],
   "source": []
  },
  {
   "cell_type": "markdown",
   "id": "812d2d61",
   "metadata": {
    "jp-MarkdownHeadingCollapsed": true
   },
   "source": [
    "#### Check JAVA runtime\n",
    "Since **VnCoreNLP requires JAVA** to run => make sure Java Runtime is already install under the working environment."
   ]
  },
  {
   "cell_type": "code",
   "execution_count": 1,
   "id": "0b52e1de",
   "metadata": {},
   "outputs": [
    {
     "name": "stdout",
     "output_type": "stream",
     "text": [
      "JAVA_HOME: /usr/local/opt/openjdk\n",
      "PATH: /usr/local/opt/openjdk/bin:/Users/trinb/opt/miniconda3/envs/base/bin:/usr/local/opt/openjdk/bin:/usr/local/opt/openjdk/bin:/Users/trinb/opt/miniconda3/bin:/Users/trinb/opt/miniconda3/condabin:/usr/local/bin:/System/Cryptexes/App/usr/bin:/usr/bin:/bin:/usr/sbin:/sbin:/var/run/com.apple.security.cryptexd/codex.system/bootstrap/usr/local/bin:/var/run/com.apple.security.cryptexd/codex.system/bootstrap/usr/bin:/var/run/com.apple.security.cryptexd/codex.system/bootstrap/usr/appleinternal/bin\n"
     ]
    }
   ],
   "source": [
    "import os\n",
    "print(\"JAVA_HOME:\", os.getenv(\"JAVA_HOME\"))\n",
    "print(\"PATH:\", os.getenv(\"PATH\"))"
   ]
  },
  {
   "cell_type": "markdown",
   "id": "2a0778c0",
   "metadata": {},
   "source": [
    "### Import Libraries"
   ]
  },
  {
   "cell_type": "code",
   "execution_count": 2,
   "id": "40a2f675-71ce-4562-abb9-419aa81138a0",
   "metadata": {},
   "outputs": [],
   "source": [
    "# data manipulation, visualization\n",
    "import pandas as pd\n",
    "import seaborn as sns\n",
    "import pandas as pd\n",
    "import matplotlib.pyplot as plt\n",
    "import importlib\n",
    "\n",
    "# custom modules\n",
    "import utils.preprocess as preprocessor"
   ]
  },
  {
   "cell_type": "code",
   "execution_count": 3,
   "id": "c7e4e6a4-c422-4b51-ad0b-a2254dcfe8f6",
   "metadata": {},
   "outputs": [
    {
     "data": {
      "text/plain": [
       "<module 'utils.preprocess' from '/Users/trinb/works/vietnamese-hate-speech-detection/utils/preprocess.py'>"
      ]
     },
     "execution_count": 3,
     "metadata": {},
     "output_type": "execute_result"
    }
   ],
   "source": [
    "importlib.reload(preprocessor)"
   ]
  },
  {
   "cell_type": "markdown",
   "id": "1d00a646-59f9-4912-b19e-6ded111bb8c9",
   "metadata": {},
   "source": [
    "## I. Data Overview"
   ]
  },
  {
   "cell_type": "code",
   "execution_count": 4,
   "id": "6e720b16-33c9-4250-8f28-0b18f4ee5c8c",
   "metadata": {},
   "outputs": [
    {
     "name": "stdout",
     "output_type": "stream",
     "text": [
      "24048\n",
      "2672\n",
      "6680\n"
     ]
    }
   ],
   "source": [
    "# load data\n",
    "train = pd.read_csv(\"data/vihsd/train.csv\", index_col=False)\n",
    "dev = pd.read_csv(\"data/vihsd/dev.csv\", index_col=False)\n",
    "test = pd.read_csv(\"data/vihsd/test.csv\", index_col=False)\n",
    "\n",
    "train.reset_index(drop=True)\n",
    "\n",
    "print(len(train))\n",
    "print(len(dev))\n",
    "print(len(test))\n",
    "     "
   ]
  },
  {
   "cell_type": "code",
   "execution_count": 5,
   "id": "0a7de429-1cd5-4296-8e89-962504d49ab9",
   "metadata": {},
   "outputs": [
    {
     "data": {
      "text/html": [
       "<div>\n",
       "<style scoped>\n",
       "    .dataframe tbody tr th:only-of-type {\n",
       "        vertical-align: middle;\n",
       "    }\n",
       "\n",
       "    .dataframe tbody tr th {\n",
       "        vertical-align: top;\n",
       "    }\n",
       "\n",
       "    .dataframe thead th {\n",
       "        text-align: right;\n",
       "    }\n",
       "</style>\n",
       "<table border=\"1\" class=\"dataframe\">\n",
       "  <thead>\n",
       "    <tr style=\"text-align: right;\">\n",
       "      <th></th>\n",
       "      <th>free_text</th>\n",
       "      <th>label_id</th>\n",
       "    </tr>\n",
       "  </thead>\n",
       "  <tbody>\n",
       "    <tr>\n",
       "      <th>0</th>\n",
       "      <td>Em được làm fan cứng luôn rồi nè ❤️ reaction q...</td>\n",
       "      <td>0</td>\n",
       "    </tr>\n",
       "    <tr>\n",
       "      <th>1</th>\n",
       "      <td>Đúng là bọn mắt híp lò xo thụt :))) bên việt n...</td>\n",
       "      <td>2</td>\n",
       "    </tr>\n",
       "    <tr>\n",
       "      <th>2</th>\n",
       "      <td>Đậu Văn Cường giờ giống thằng sida hơn à</td>\n",
       "      <td>0</td>\n",
       "    </tr>\n",
       "    <tr>\n",
       "      <th>3</th>\n",
       "      <td>CÔN ĐỒ CỤC SÚC VÔ NHÂN TÍNH ĐỀ NGHI VN. NHÀ NƯ...</td>\n",
       "      <td>2</td>\n",
       "    </tr>\n",
       "    <tr>\n",
       "      <th>4</th>\n",
       "      <td>Từ lý thuyết đến thực hành là cả 1 câu chuyện ...</td>\n",
       "      <td>0</td>\n",
       "    </tr>\n",
       "    <tr>\n",
       "      <th>5</th>\n",
       "      <td>Coronavirus is manmade</td>\n",
       "      <td>0</td>\n",
       "    </tr>\n",
       "    <tr>\n",
       "      <th>6</th>\n",
       "      <td>Đố chúng m nhận ra ai</td>\n",
       "      <td>0</td>\n",
       "    </tr>\n",
       "    <tr>\n",
       "      <th>7</th>\n",
       "      <td>Lúp lúp như chó .</td>\n",
       "      <td>1</td>\n",
       "    </tr>\n",
       "    <tr>\n",
       "      <th>8</th>\n",
       "      <td>🥰🥰🥰</td>\n",
       "      <td>0</td>\n",
       "    </tr>\n",
       "    <tr>\n",
       "      <th>9</th>\n",
       "      <td>Thế mà mình nói mấy thằng bắc kì, bọn đó lại b...</td>\n",
       "      <td>2</td>\n",
       "    </tr>\n",
       "    <tr>\n",
       "      <th>10</th>\n",
       "      <td>Được anh ưi, lâu rồi không nghe phúc du rap 🤣</td>\n",
       "      <td>0</td>\n",
       "    </tr>\n",
       "    <tr>\n",
       "      <th>11</th>\n",
       "      <td>Cắt cho trẻ trâu bớt thui mà 😂😂😂</td>\n",
       "      <td>0</td>\n",
       "    </tr>\n",
       "    <tr>\n",
       "      <th>12</th>\n",
       "      <td>Nghe rất vô lí nhưng cực kì thuyết phục</td>\n",
       "      <td>0</td>\n",
       "    </tr>\n",
       "    <tr>\n",
       "      <th>13</th>\n",
       "      <td>chán ghê hong có pé 2 mới máu được, hâhha</td>\n",
       "      <td>0</td>\n",
       "    </tr>\n",
       "    <tr>\n",
       "      <th>14</th>\n",
       "      <td>Sao t gửi đc bây</td>\n",
       "      <td>0</td>\n",
       "    </tr>\n",
       "  </tbody>\n",
       "</table>\n",
       "</div>"
      ],
      "text/plain": [
       "                                            free_text  label_id\n",
       "0   Em được làm fan cứng luôn rồi nè ❤️ reaction q...         0\n",
       "1   Đúng là bọn mắt híp lò xo thụt :))) bên việt n...         2\n",
       "2            Đậu Văn Cường giờ giống thằng sida hơn à         0\n",
       "3   CÔN ĐỒ CỤC SÚC VÔ NHÂN TÍNH ĐỀ NGHI VN. NHÀ NƯ...         2\n",
       "4   Từ lý thuyết đến thực hành là cả 1 câu chuyện ...         0\n",
       "5                              Coronavirus is manmade         0\n",
       "6                               Đố chúng m nhận ra ai         0\n",
       "7                                   Lúp lúp như chó .         1\n",
       "8                                                 🥰🥰🥰         0\n",
       "9   Thế mà mình nói mấy thằng bắc kì, bọn đó lại b...         2\n",
       "10      Được anh ưi, lâu rồi không nghe phúc du rap 🤣         0\n",
       "11                   Cắt cho trẻ trâu bớt thui mà 😂😂😂         0\n",
       "12            Nghe rất vô lí nhưng cực kì thuyết phục         0\n",
       "13          chán ghê hong có pé 2 mới máu được, hâhha         0\n",
       "14                                   Sao t gửi đc bây         0"
      ]
     },
     "execution_count": 5,
     "metadata": {},
     "output_type": "execute_result"
    }
   ],
   "source": [
    "train.head(15)"
   ]
  },
  {
   "cell_type": "code",
   "execution_count": 6,
   "id": "252fbc3b",
   "metadata": {},
   "outputs": [
    {
     "data": {
      "text/plain": [
       "label_id\n",
       "0    19886\n",
       "2     2556\n",
       "1     1606\n",
       "Name: count, dtype: int64"
      ]
     },
     "execution_count": 6,
     "metadata": {},
     "output_type": "execute_result"
    }
   ],
   "source": [
    "train['label_id'].value_counts()"
   ]
  },
  {
   "cell_type": "code",
   "execution_count": 7,
   "id": "0f7f4441",
   "metadata": {},
   "outputs": [
    {
     "data": {
      "text/plain": [
       "label_id\n",
       "0    2190\n",
       "2     270\n",
       "1     212\n",
       "Name: count, dtype: int64"
      ]
     },
     "execution_count": 7,
     "metadata": {},
     "output_type": "execute_result"
    }
   ],
   "source": [
    "dev['label_id'].value_counts()"
   ]
  },
  {
   "cell_type": "code",
   "execution_count": 8,
   "id": "65109f6d",
   "metadata": {},
   "outputs": [
    {
     "data": {
      "text/plain": [
       "label_id\n",
       "0    5548\n",
       "2     688\n",
       "1     444\n",
       "Name: count, dtype: int64"
      ]
     },
     "execution_count": 8,
     "metadata": {},
     "output_type": "execute_result"
    }
   ],
   "source": [
    "test['label_id'].value_counts()"
   ]
  },
  {
   "cell_type": "markdown",
   "id": "9030896c",
   "metadata": {},
   "source": [
    "The datasets are heavily **imbalanced** with the majority of the data are `CLEAN` => this heavily affect the performance of the models. \n",
    "\n",
    "=> *rebalance the datasets with lesser `CLEAN` entries*. This might lead to worse knowledge delivered but guarantee the ability to classify classes more precisely."
   ]
  },
  {
   "cell_type": "code",
   "execution_count": 9,
   "id": "ab7e6b7e",
   "metadata": {},
   "outputs": [],
   "source": [
    "train = preprocessor.reduce_class_size(train, 'label_id', 0, 3000)\n",
    "dev = preprocessor.reduce_class_size(dev, 'label_id', 0, 350)\n",
    "test = preprocessor.reduce_class_size(train, 'label_id', 0, 700)"
   ]
  },
  {
   "cell_type": "code",
   "execution_count": 10,
   "id": "1e1bb2a7",
   "metadata": {},
   "outputs": [
    {
     "data": {
      "text/plain": [
       "label_id\n",
       "0    3000\n",
       "2    2556\n",
       "1    1606\n",
       "Name: count, dtype: int64"
      ]
     },
     "execution_count": 10,
     "metadata": {},
     "output_type": "execute_result"
    }
   ],
   "source": [
    "train['label_id'].value_counts()"
   ]
  },
  {
   "cell_type": "markdown",
   "id": "2f95f7fd-b006-4743-9960-24f05842bd0e",
   "metadata": {},
   "source": [
    "# II. Data Preprocess"
   ]
  },
  {
   "cell_type": "markdown",
   "id": "5b5d8271-a1f6-449d-9424-05203f64aa07",
   "metadata": {},
   "source": [
    "### Examine tokenizer"
   ]
  },
  {
   "cell_type": "markdown",
   "id": "2badb3c2-f68b-427a-b7ca-827f9a001d74",
   "metadata": {},
   "source": [
    "#### vncorenlp"
   ]
  },
  {
   "cell_type": "code",
   "execution_count": 11,
   "id": "7d26fcbb-568c-4bab-944c-4b6360833306",
   "metadata": {},
   "outputs": [
    {
     "data": {
      "text/plain": [
       "[['Chuyện',\n",
       "  'đéo',\n",
       "  'đâu',\n",
       "  'xa',\n",
       "  'về',\n",
       "  'đạo_đức',\n",
       "  'mấy',\n",
       "  'thằng',\n",
       "  'chó',\n",
       "  'công_an',\n",
       "  'giao_thông',\n",
       "  ':',\n",
       "  'sáng',\n",
       "  'nãy',\n",
       "  'e',\n",
       "  'đi',\n",
       "  'tiễn',\n",
       "  'mấy',\n",
       "  'thằng',\n",
       "  'bạn',\n",
       "  'đi',\n",
       "  'lính',\n",
       "  '..',\n",
       "  'bọn',\n",
       "  'giao_thông',\n",
       "  'đi',\n",
       "  'dẹp',\n",
       "  'đường',\n",
       "  'nó',\n",
       "  'cầm',\n",
       "  'gậy',\n",
       "  'sắt',\n",
       "  'vừa',\n",
       "  'vụt',\n",
       "  'vừa',\n",
       "  'chửi',\n",
       "  'dân',\n",
       "  'như',\n",
       "  'con',\n",
       "  '\"',\n",
       "  'bố',\n",
       "  'mày',\n",
       "  'đập',\n",
       "  'chết',\n",
       "  'cụ',\n",
       "  'mày',\n",
       "  'giờ',\n",
       "  ',',\n",
       "  'địt',\n",
       "  'cụ',\n",
       "  'mày',\n",
       "  '\"',\n",
       "  'mình',\n",
       "  'đéo',\n",
       "  'ngờ',\n",
       "  'luôn',\n",
       "  'đấy']]"
      ]
     },
     "execution_count": 11,
     "metadata": {},
     "output_type": "execute_result"
    }
   ],
   "source": [
    "preprocessor.tokenizer(train['free_text'][8])"
   ]
  },
  {
   "cell_type": "markdown",
   "id": "1d8d74ec-1816-4444-b91f-bb511d68d98e",
   "metadata": {},
   "source": [
    "#### ViTokenizer"
   ]
  },
  {
   "cell_type": "code",
   "execution_count": 12,
   "id": "19aec45b-b5ad-43bc-8b2f-34d61e82fd59",
   "metadata": {},
   "outputs": [
    {
     "data": {
      "text/plain": [
       "'Chuyện đéo đâu xa về đạo_đức mấy thằng chó công_an giao_thông : sáng nãy e đi tiễn mấy thằng bạn đi lính . . bọn giao_thông đi dẹp đường nó cầm gậy sắt vừa vụt vừa chửi dân như con \" bố mày đập chết cụ mày giờ , địt cụ mày \" mình đéo ngờ luôn đấy'"
      ]
     },
     "execution_count": 12,
     "metadata": {},
     "output_type": "execute_result"
    }
   ],
   "source": [
    "preprocessor.tokenizer(train['free_text'][8], option=2)"
   ]
  },
  {
   "cell_type": "markdown",
   "id": "a5ca67ef-b04a-4809-8b75-9b913a202786",
   "metadata": {
    "jp-MarkdownHeadingCollapsed": true
   },
   "source": [
    "### Examine filter stopwords"
   ]
  },
  {
   "cell_type": "code",
   "execution_count": 13,
   "id": "f6369bb5-e1d3-483e-97ce-daa1449a796c",
   "metadata": {},
   "outputs": [
    {
     "data": {
      "text/plain": [
       "'Hải Yến nhìn, đéo bắt ^^'"
      ]
     },
     "execution_count": 13,
     "metadata": {},
     "output_type": "execute_result"
    }
   ],
   "source": [
    "preprocessor.filter_stop_words(train['free_text'][4])"
   ]
  },
  {
   "cell_type": "markdown",
   "id": "240470cf-7eb4-42c4-b4c1-b31c38a0f7ec",
   "metadata": {},
   "source": [
    "### Examine deEmojify"
   ]
  },
  {
   "cell_type": "code",
   "execution_count": 14,
   "id": "79311447-ed2c-4195-99a4-2a31603cf9c1",
   "metadata": {},
   "outputs": [
    {
     "data": {
      "text/plain": [
       "'cua hoàng đế cơ mà'"
      ]
     },
     "execution_count": 14,
     "metadata": {},
     "output_type": "execute_result"
    }
   ],
   "source": [
    "preprocessor.deEmojify(train['free_text'][1])"
   ]
  },
  {
   "cell_type": "code",
   "execution_count": 21,
   "id": "6d2f5a30-64c7-454b-8153-3cf28f4410a8",
   "metadata": {},
   "outputs": [
    {
     "data": {
      "text/plain": [
       "'aaa  aa'"
      ]
     },
     "execution_count": 21,
     "metadata": {},
     "output_type": "execute_result"
    }
   ],
   "source": [
    "preprocessor.deEmojify('aaa =]]]] aa')"
   ]
  },
  {
   "cell_type": "markdown",
   "id": "06c554c3-7a27-4a55-b26f-4110f21fb4c8",
   "metadata": {},
   "source": [
    "### Prepare data"
   ]
  },
  {
   "cell_type": "code",
   "execution_count": 15,
   "id": "7c1cdc8a-ddbf-46f8-90c4-32c95fe6d24f",
   "metadata": {},
   "outputs": [],
   "source": [
    "X_train = train['free_text']\n",
    "y_train = train['label_id'].values\n",
    "\n",
    "X_dev = dev['free_text']\n",
    "y_dev = dev['label_id'].values\n",
    "\n",
    "X_test = test['free_text']\n",
    "y_test = test['label_id'].values"
   ]
  },
  {
   "cell_type": "code",
   "execution_count": 16,
   "id": "38ebca2c-3212-4d6c-9b33-3efec476c1ed",
   "metadata": {
    "scrolled": true
   },
   "outputs": [],
   "source": [
    "train_X, train_y = preprocessor.pre_process_features(X_train, y_train, tokenized=True, lowercased = False)"
   ]
  },
  {
   "cell_type": "code",
   "execution_count": 17,
   "id": "4f18e312-0183-49c8-ba83-6548393fddbb",
   "metadata": {
    "scrolled": true
   },
   "outputs": [],
   "source": [
    "val_X, val_y = preprocessor.pre_process_features(X_dev, y_dev, tokenized=True, lowercased = False)"
   ]
  },
  {
   "cell_type": "code",
   "execution_count": 18,
   "id": "e041168c-d047-4a8d-a38f-44d0d591d993",
   "metadata": {},
   "outputs": [],
   "source": [
    "test_X, test_y = preprocessor.pre_process_features(X_test, y_test, tokenized=True, lowercased= False)"
   ]
  },
  {
   "cell_type": "markdown",
   "id": "781538d7-d78e-4d9c-afe3-b116178f7cca",
   "metadata": {},
   "source": [
    "### Export csv"
   ]
  },
  {
   "cell_type": "code",
   "execution_count": 19,
   "id": "5f7bc1c9-3685-4e53-bde1-e1aeb88d8792",
   "metadata": {},
   "outputs": [],
   "source": [
    "data = { 'text': train_X, 'labels': train_y }"
   ]
  },
  {
   "cell_type": "code",
   "execution_count": 20,
   "id": "5391b355-9f36-42d2-a4d3-19e1d578a008",
   "metadata": {},
   "outputs": [],
   "source": [
    "train_df = pd.DataFrame(data)"
   ]
  },
  {
   "cell_type": "code",
   "execution_count": 21,
   "id": "92a0a1f3-5f6b-42e0-8ab6-81fe9f48e1fc",
   "metadata": {},
   "outputs": [
    {
     "data": {
      "text/html": [
       "<div>\n",
       "<style scoped>\n",
       "    .dataframe tbody tr th:only-of-type {\n",
       "        vertical-align: middle;\n",
       "    }\n",
       "\n",
       "    .dataframe tbody tr th {\n",
       "        vertical-align: top;\n",
       "    }\n",
       "\n",
       "    .dataframe thead th {\n",
       "        text-align: right;\n",
       "    }\n",
       "</style>\n",
       "<table border=\"1\" class=\"dataframe\">\n",
       "  <thead>\n",
       "    <tr style=\"text-align: right;\">\n",
       "      <th></th>\n",
       "      <th>text</th>\n",
       "      <th>labels</th>\n",
       "    </tr>\n",
       "  </thead>\n",
       "  <tbody>\n",
       "    <tr>\n",
       "      <th>0</th>\n",
       "      <td>Cho_phép đéo cá sống tầng SÂU chết .Đm</td>\n",
       "      <td>1</td>\n",
       "    </tr>\n",
       "    <tr>\n",
       "      <th>1</th>\n",
       "      <td>cua hoàng_đế</td>\n",
       "      <td>0</td>\n",
       "    </tr>\n",
       "    <tr>\n",
       "      <th>2</th>\n",
       "      <td>Gần Bác Ngạn ưi</td>\n",
       "      <td>0</td>\n",
       "    </tr>\n",
       "    <tr>\n",
       "      <th>3</th>\n",
       "      <td>Chịu đọc báo dùm .Tiền xây tượng dân địa_phươn...</td>\n",
       "      <td>2</td>\n",
       "    </tr>\n",
       "    <tr>\n",
       "      <th>4</th>\n",
       "      <td>Hải_Yến nhìn , đéo bắt ^ ^</td>\n",
       "      <td>2</td>\n",
       "    </tr>\n",
       "    <tr>\n",
       "      <th>...</th>\n",
       "      <td>...</td>\n",
       "      <td>...</td>\n",
       "    </tr>\n",
       "    <tr>\n",
       "      <th>7157</th>\n",
       "      <td>Vải lông tỷ nổ lằn nổ lốn dell quan_tâm</td>\n",
       "      <td>2</td>\n",
       "    </tr>\n",
       "    <tr>\n",
       "      <th>7158</th>\n",
       "      <td>quản_lí internet , nhồi_sọ dân phút_giây .Dân ...</td>\n",
       "      <td>2</td>\n",
       "    </tr>\n",
       "    <tr>\n",
       "      <th>7159</th>\n",
       "      <td>bốc bốc hửi hửi</td>\n",
       "      <td>1</td>\n",
       "    </tr>\n",
       "    <tr>\n",
       "      <th>7160</th>\n",
       "      <td>Má mặc đeo</td>\n",
       "      <td>1</td>\n",
       "    </tr>\n",
       "    <tr>\n",
       "      <th>7161</th>\n",
       "      <td>Thu đi lá vàng nhunh gửi ngàn yêu_thương</td>\n",
       "      <td>0</td>\n",
       "    </tr>\n",
       "  </tbody>\n",
       "</table>\n",
       "<p>7162 rows × 2 columns</p>\n",
       "</div>"
      ],
      "text/plain": [
       "                                                   text  labels\n",
       "0                Cho_phép đéo cá sống tầng SÂU chết .Đm       1\n",
       "1                                          cua hoàng_đế       0\n",
       "2                                       Gần Bác Ngạn ưi       0\n",
       "3     Chịu đọc báo dùm .Tiền xây tượng dân địa_phươn...       2\n",
       "4                            Hải_Yến nhìn , đéo bắt ^ ^       2\n",
       "...                                                 ...     ...\n",
       "7157            Vải lông tỷ nổ lằn nổ lốn dell quan_tâm       2\n",
       "7158  quản_lí internet , nhồi_sọ dân phút_giây .Dân ...       2\n",
       "7159                                    bốc bốc hửi hửi       1\n",
       "7160                                         Má mặc đeo       1\n",
       "7161           Thu đi lá vàng nhunh gửi ngàn yêu_thương       0\n",
       "\n",
       "[7162 rows x 2 columns]"
      ]
     },
     "execution_count": 21,
     "metadata": {},
     "output_type": "execute_result"
    }
   ],
   "source": [
    "train_df"
   ]
  },
  {
   "cell_type": "code",
   "execution_count": 22,
   "id": "5e7829df-b501-4825-a318-da65a8ab200c",
   "metadata": {},
   "outputs": [],
   "source": [
    "train_df.to_csv('data/processed_train.csv')"
   ]
  },
  {
   "cell_type": "markdown",
   "id": "17fdfd28-e3bc-48b4-bde0-c33db9fafdf6",
   "metadata": {},
   "source": [
    "#### Val dataset"
   ]
  },
  {
   "cell_type": "code",
   "execution_count": 23,
   "id": "57588ecb-e8b4-4a85-826b-72a66b8765dd",
   "metadata": {},
   "outputs": [],
   "source": [
    "val_data = { 'text': val_X, 'labels': val_y }"
   ]
  },
  {
   "cell_type": "code",
   "execution_count": 24,
   "id": "e57de1a7-eda7-4249-9043-ede34ce62461",
   "metadata": {},
   "outputs": [],
   "source": [
    "val_df = pd.DataFrame(val_data)"
   ]
  },
  {
   "cell_type": "code",
   "execution_count": 25,
   "id": "ecb42db8-30ae-4720-a3be-fa5930f1cf57",
   "metadata": {},
   "outputs": [],
   "source": [
    "val_df.to_csv('data/processed_val.csv')"
   ]
  },
  {
   "cell_type": "markdown",
   "id": "75cc8d27-c473-4673-bb21-aca6ae75f6f1",
   "metadata": {},
   "source": [
    "### Test dataset"
   ]
  },
  {
   "cell_type": "code",
   "execution_count": 27,
   "id": "747350ea",
   "metadata": {},
   "outputs": [],
   "source": [
    "test_data = { 'text': test_X, 'labels': test_y }"
   ]
  },
  {
   "cell_type": "code",
   "execution_count": 28,
   "id": "832926b7",
   "metadata": {},
   "outputs": [],
   "source": [
    "test_df = pd.DataFrame(test_data)"
   ]
  },
  {
   "cell_type": "code",
   "execution_count": 29,
   "id": "fa64e690",
   "metadata": {},
   "outputs": [],
   "source": [
    "test_df.to_csv('data/processed_test.csv')"
   ]
  }
 ],
 "metadata": {
  "kernelspec": {
   "display_name": "Python 3 (ipykernel)",
   "language": "python",
   "name": "python3"
  },
  "language_info": {
   "codemirror_mode": {
    "name": "ipython",
    "version": 3
   },
   "file_extension": ".py",
   "mimetype": "text/x-python",
   "name": "python",
   "nbconvert_exporter": "python",
   "pygments_lexer": "ipython3",
   "version": "3.12.2"
  }
 },
 "nbformat": 4,
 "nbformat_minor": 5
}
