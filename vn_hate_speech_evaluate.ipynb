{
 "cells": [
  {
   "cell_type": "code",
   "execution_count": 47,
   "id": "7736700a-81ad-4489-a621-02222796dedc",
   "metadata": {},
   "outputs": [],
   "source": [
    "import pandas as pd\n",
    "from models.transformer_classifier import HateSpeechDetector\n",
    "from utils.evaluation import evaluate\n"
   ]
  },
  {
   "cell_type": "markdown",
   "id": "bf614462",
   "metadata": {},
   "source": [
    "### Prepare Test dataset"
   ]
  },
  {
   "cell_type": "code",
   "execution_count": 24,
   "id": "e63fd4cd",
   "metadata": {},
   "outputs": [],
   "source": [
    "test = pd.read_csv(\"data/vihsd/test.csv\", index_col=False)\n",
    "test_texts = test['free_text']\n",
    "test_labels = test['label_id']"
   ]
  },
  {
   "cell_type": "code",
   "execution_count": 14,
   "id": "d0583bc1",
   "metadata": {},
   "outputs": [],
   "source": [
    "text_labels = {0:'clean', 1:'offensive', 2:'hate'}"
   ]
  },
  {
   "cell_type": "markdown",
   "id": "8f9a0605-df5a-4b45-93c6-f353c9d3b0aa",
   "metadata": {},
   "source": [
    "## Bert Based Cased"
   ]
  },
  {
   "cell_type": "code",
   "execution_count": 2,
   "id": "7e856144-7aca-4b33-96f7-2aa41ec63523",
   "metadata": {},
   "outputs": [
    {
     "data": {
      "application/vnd.jupyter.widget-view+json": {
       "model_id": "dead20cc4ea841e392d482652075e50c",
       "version_major": 2,
       "version_minor": 0
      },
      "text/plain": [
       "tokenizer_config.json:   0%|          | 0.00/49.0 [00:00<?, ?B/s]"
      ]
     },
     "metadata": {},
     "output_type": "display_data"
    },
    {
     "data": {
      "application/vnd.jupyter.widget-view+json": {
       "model_id": "6f9985e01a0b455084fc538423ce08f3",
       "version_major": 2,
       "version_minor": 0
      },
      "text/plain": [
       "config.json:   0%|          | 0.00/570 [00:00<?, ?B/s]"
      ]
     },
     "metadata": {},
     "output_type": "display_data"
    },
    {
     "data": {
      "application/vnd.jupyter.widget-view+json": {
       "model_id": "aa586bd2dccb4cd1b46c427ad657e8d2",
       "version_major": 2,
       "version_minor": 0
      },
      "text/plain": [
       "vocab.txt:   0%|          | 0.00/213k [00:00<?, ?B/s]"
      ]
     },
     "metadata": {},
     "output_type": "display_data"
    },
    {
     "data": {
      "application/vnd.jupyter.widget-view+json": {
       "model_id": "22f4a86415434b3a9e623c29c9eb0f44",
       "version_major": 2,
       "version_minor": 0
      },
      "text/plain": [
       "tokenizer.json:   0%|          | 0.00/436k [00:00<?, ?B/s]"
      ]
     },
     "metadata": {},
     "output_type": "display_data"
    },
    {
     "data": {
      "application/vnd.jupyter.widget-view+json": {
       "model_id": "9a6a766cb26d412581958ede26bef2de",
       "version_major": 2,
       "version_minor": 0
      },
      "text/plain": [
       "model.safetensors:   0%|          | 0.00/436M [00:00<?, ?B/s]"
      ]
     },
     "metadata": {},
     "output_type": "display_data"
    },
    {
     "name": "stderr",
     "output_type": "stream",
     "text": [
      "Some weights of BertForSequenceClassification were not initialized from the model checkpoint at bert-base-cased and are newly initialized: ['classifier.bias', 'classifier.weight']\n",
      "You should probably TRAIN this model on a down-stream task to be able to use it for predictions and inference.\n"
     ]
    }
   ],
   "source": []
  },
  {
   "cell_type": "code",
   "execution_count": 3,
   "id": "43f677d5",
   "metadata": {},
   "outputs": [],
   "source": [
    "bert_clf = HateSpeechDetector.load_model(\"models/bert-base-cased/\")"
   ]
  },
  {
   "cell_type": "code",
   "execution_count": 45,
   "id": "6630e744",
   "metadata": {},
   "outputs": [],
   "source": [
    "predictions = bert_clf.predict(\"\")"
   ]
  },
  {
   "cell_type": "code",
   "execution_count": 46,
   "id": "580d30d0",
   "metadata": {},
   "outputs": [
    {
     "name": "stdout",
     "output_type": "stream",
     "text": [
      "['clean']\n"
     ]
    }
   ],
   "source": [
    "labels = [txt for value, txt in text_labels.items() if value in predictions]\n",
    "print(labels)"
   ]
  },
  {
   "cell_type": "code",
   "execution_count": null,
   "id": "98b2502a",
   "metadata": {},
   "outputs": [],
   "source": [
    "evaluate(bert_clf, test_texts,  )"
   ]
  }
 ],
 "metadata": {
  "kernelspec": {
   "display_name": "Python 3 (ipykernel)",
   "language": "python",
   "name": "python3"
  },
  "language_info": {
   "codemirror_mode": {
    "name": "ipython",
    "version": 3
   },
   "file_extension": ".py",
   "mimetype": "text/x-python",
   "name": "python",
   "nbconvert_exporter": "python",
   "pygments_lexer": "ipython3",
   "version": "3.12.2"
  }
 },
 "nbformat": 4,
 "nbformat_minor": 5
}
