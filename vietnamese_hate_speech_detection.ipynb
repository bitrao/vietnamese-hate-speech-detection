{
 "cells": [
  {
   "cell_type": "markdown",
   "id": "1c03ade6-edbf-4d16-82c4-ddc4a0a10cd7",
   "metadata": {},
   "source": [
    "# VIETNAMESE HATE AND OFFENSIVE SPEECH DETECTION"
   ]
  },
  {
   "cell_type": "code",
   "execution_count": 1,
   "id": "40a2f675-71ce-4562-abb9-419aa81138a0",
   "metadata": {},
   "outputs": [
    {
     "name": "stderr",
     "output_type": "stream",
     "text": [
      "2025-01-03 17:37:10.925844: I tensorflow/core/platform/cpu_feature_guard.cc:210] This TensorFlow binary is optimized to use available CPU instructions in performance-critical operations.\n",
      "To enable the following instructions: AVX2 FMA, in other operations, rebuild TensorFlow with the appropriate compiler flags.\n"
     ]
    },
    {
     "ename": "FileNotFoundError",
     "evalue": "[Errno 2] No such file or directory: './vncorenlp/models'",
     "output_type": "error",
     "traceback": [
      "\u001b[0;31m---------------------------------------------------------------------------\u001b[0m",
      "\u001b[0;31mFileNotFoundError\u001b[0m                         Traceback (most recent call last)",
      "Cell \u001b[0;32mIn[1], line 12\u001b[0m\n\u001b[1;32m      9\u001b[0m \u001b[38;5;28;01mfrom\u001b[39;00m \u001b[38;5;21;01mtransformers\u001b[39;00m \u001b[38;5;28;01mimport\u001b[39;00m AutoTokenizer, AutoModelForSequenceClassification, Trainer, TrainingArguments, BertTokenizer, BertForSequenceClassification\n\u001b[1;32m     11\u001b[0m \u001b[38;5;66;03m# custom modules\u001b[39;00m\n\u001b[0;32m---> 12\u001b[0m \u001b[38;5;28;01mimport\u001b[39;00m \u001b[38;5;21;01mutils\u001b[39;00m\u001b[38;5;21;01m.\u001b[39;00m\u001b[38;5;21;01mpreprocess\u001b[39;00m \u001b[38;5;28;01mas\u001b[39;00m \u001b[38;5;21;01mpreprocessor\u001b[39;00m\n",
      "File \u001b[0;32m~/works/vietnamese-hate-speech-detection/utils/preprocess.py:3\u001b[0m\n\u001b[1;32m      2\u001b[0m \u001b[38;5;28;01mimport\u001b[39;00m \u001b[38;5;21;01mpy_vncorenlp\u001b[39;00m\n\u001b[0;32m----> 3\u001b[0m \u001b[43mpy_vncorenlp\u001b[49m\u001b[38;5;241;43m.\u001b[39;49m\u001b[43mdownload_model\u001b[49m\u001b[43m(\u001b[49m\u001b[43msave_dir\u001b[49m\u001b[38;5;241;43m=\u001b[39;49m\u001b[38;5;124;43m'\u001b[39;49m\u001b[38;5;124;43m./vncorenlp\u001b[39;49m\u001b[38;5;124;43m'\u001b[39;49m\u001b[43m)\u001b[49m\n\u001b[1;32m      5\u001b[0m vncorenlp \u001b[38;5;241m=\u001b[39m py_vncorenlp\u001b[38;5;241m.\u001b[39mVnCoreNLP(\u001b[38;5;124m\"\u001b[39m\u001b[38;5;124mvncorenlp/VnCoreNLP-1.1.1.jar\u001b[39m\u001b[38;5;124m\"\u001b[39m, annotators\u001b[38;5;241m=\u001b[39m\u001b[38;5;124m\"\u001b[39m\u001b[38;5;124mwseg\u001b[39m\u001b[38;5;124m\"\u001b[39m, max_heap_size\u001b[38;5;241m=\u001b[39m\u001b[38;5;124m'\u001b[39m\u001b[38;5;124m-Xmx500m\u001b[39m\u001b[38;5;124m'\u001b[39m) \n\u001b[1;32m      7\u001b[0m \u001b[38;5;28;01mimport\u001b[39;00m \u001b[38;5;21;01mre\u001b[39;00m\n",
      "File \u001b[0;32m~/opt/miniconda3/lib/python3.12/site-packages/py_vncorenlp/vncorenlp.py:13\u001b[0m, in \u001b[0;36mdownload_model\u001b[0;34m(save_dir)\u001b[0m\n\u001b[1;32m     11\u001b[0m     \u001b[38;5;28mprint\u001b[39m(\u001b[38;5;124m\"\u001b[39m\u001b[38;5;124mVnCoreNLP model folder \u001b[39m\u001b[38;5;124m\"\u001b[39m \u001b[38;5;241m+\u001b[39m save_dir \u001b[38;5;241m+\u001b[39m \u001b[38;5;124m\"\u001b[39m\u001b[38;5;124m already exists! Please load VnCoreNLP from this folder!\u001b[39m\u001b[38;5;124m\"\u001b[39m)\n\u001b[1;32m     12\u001b[0m \u001b[38;5;28;01melse\u001b[39;00m:\n\u001b[0;32m---> 13\u001b[0m     \u001b[43mos\u001b[49m\u001b[38;5;241;43m.\u001b[39;49m\u001b[43mmkdir\u001b[49m\u001b[43m(\u001b[49m\u001b[43msave_dir\u001b[49m\u001b[43m \u001b[49m\u001b[38;5;241;43m+\u001b[39;49m\u001b[43m \u001b[49m\u001b[38;5;124;43m\"\u001b[39;49m\u001b[38;5;124;43m/models\u001b[39;49m\u001b[38;5;124;43m\"\u001b[39;49m\u001b[43m)\u001b[49m\n\u001b[1;32m     14\u001b[0m     os\u001b[38;5;241m.\u001b[39mmkdir(save_dir \u001b[38;5;241m+\u001b[39m \u001b[38;5;124m\"\u001b[39m\u001b[38;5;124m/models/dep\u001b[39m\u001b[38;5;124m\"\u001b[39m)\n\u001b[1;32m     15\u001b[0m     os\u001b[38;5;241m.\u001b[39mmkdir(save_dir \u001b[38;5;241m+\u001b[39m \u001b[38;5;124m\"\u001b[39m\u001b[38;5;124m/models/ner\u001b[39m\u001b[38;5;124m\"\u001b[39m)\n",
      "\u001b[0;31mFileNotFoundError\u001b[0m: [Errno 2] No such file or directory: './vncorenlp/models'"
     ]
    }
   ],
   "source": [
    "# data manipulation, visualization\n",
    "import pandas as pd\n",
    "import seaborn as sns\n",
    "import pandas as pd\n",
    "import matplotlib.pyplot as plt\n",
    "\n",
    "# modelling\n",
    "from sklearn.metrics import f1_score, confusion_matrix, accuracy_score, recall_score\n",
    "from transformers import AutoTokenizer, AutoModelForSequenceClassification, Trainer, TrainingArguments, BertTokenizer, BertForSequenceClassification\n",
    "\n",
    "# custom modules\n",
    "import utils.preprocess as preprocessor"
   ]
  },
  {
   "cell_type": "code",
   "execution_count": null,
   "id": "3e2cefe8-2c0e-42ab-aa6a-950b461ed280",
   "metadata": {},
   "outputs": [],
   "source": []
  },
  {
   "cell_type": "markdown",
   "id": "1d00a646-59f9-4912-b19e-6ded111bb8c9",
   "metadata": {},
   "source": [
    "## I. Data Overview"
   ]
  },
  {
   "cell_type": "code",
   "execution_count": 5,
   "id": "6e720b16-33c9-4250-8f28-0b18f4ee5c8c",
   "metadata": {},
   "outputs": [
    {
     "name": "stdout",
     "output_type": "stream",
     "text": [
      "24048\n",
      "2672\n",
      "6680\n"
     ]
    }
   ],
   "source": [
    "# load data\n",
    "train = pd.read_csv(\"data/vihsd/train.csv\", index_col=False)\n",
    "dev = pd.read_csv(\"data/vihsd/dev.csv\", index_col=False)\n",
    "test = pd.read_csv(\"data/vihsd/test.csv\", index_col=False)\n",
    "\n",
    "train.reset_index(drop=True)\n",
    "\n",
    "print(len(train))\n",
    "print(len(dev))\n",
    "print(len(test))\n",
    "     "
   ]
  },
  {
   "cell_type": "code",
   "execution_count": 6,
   "id": "0a7de429-1cd5-4296-8e89-962504d49ab9",
   "metadata": {},
   "outputs": [
    {
     "data": {
      "text/html": [
       "<div>\n",
       "<style scoped>\n",
       "    .dataframe tbody tr th:only-of-type {\n",
       "        vertical-align: middle;\n",
       "    }\n",
       "\n",
       "    .dataframe tbody tr th {\n",
       "        vertical-align: top;\n",
       "    }\n",
       "\n",
       "    .dataframe thead th {\n",
       "        text-align: right;\n",
       "    }\n",
       "</style>\n",
       "<table border=\"1\" class=\"dataframe\">\n",
       "  <thead>\n",
       "    <tr style=\"text-align: right;\">\n",
       "      <th></th>\n",
       "      <th>free_text</th>\n",
       "      <th>label_id</th>\n",
       "    </tr>\n",
       "  </thead>\n",
       "  <tbody>\n",
       "    <tr>\n",
       "      <th>0</th>\n",
       "      <td>Em được làm fan cứng luôn rồi nè ❤️ reaction q...</td>\n",
       "      <td>0</td>\n",
       "    </tr>\n",
       "    <tr>\n",
       "      <th>1</th>\n",
       "      <td>Đúng là bọn mắt híp lò xo thụt :))) bên việt n...</td>\n",
       "      <td>2</td>\n",
       "    </tr>\n",
       "    <tr>\n",
       "      <th>2</th>\n",
       "      <td>Đậu Văn Cường giờ giống thằng sida hơn à</td>\n",
       "      <td>0</td>\n",
       "    </tr>\n",
       "    <tr>\n",
       "      <th>3</th>\n",
       "      <td>CÔN ĐỒ CỤC SÚC VÔ NHÂN TÍNH ĐỀ NGHI VN. NHÀ NƯ...</td>\n",
       "      <td>2</td>\n",
       "    </tr>\n",
       "    <tr>\n",
       "      <th>4</th>\n",
       "      <td>Từ lý thuyết đến thực hành là cả 1 câu chuyện ...</td>\n",
       "      <td>0</td>\n",
       "    </tr>\n",
       "    <tr>\n",
       "      <th>5</th>\n",
       "      <td>Coronavirus is manmade</td>\n",
       "      <td>0</td>\n",
       "    </tr>\n",
       "    <tr>\n",
       "      <th>6</th>\n",
       "      <td>Đố chúng m nhận ra ai</td>\n",
       "      <td>0</td>\n",
       "    </tr>\n",
       "    <tr>\n",
       "      <th>7</th>\n",
       "      <td>Lúp lúp như chó .</td>\n",
       "      <td>1</td>\n",
       "    </tr>\n",
       "    <tr>\n",
       "      <th>8</th>\n",
       "      <td>🥰🥰🥰</td>\n",
       "      <td>0</td>\n",
       "    </tr>\n",
       "    <tr>\n",
       "      <th>9</th>\n",
       "      <td>Thế mà mình nói mấy thằng bắc kì, bọn đó lại b...</td>\n",
       "      <td>2</td>\n",
       "    </tr>\n",
       "  </tbody>\n",
       "</table>\n",
       "</div>"
      ],
      "text/plain": [
       "                                           free_text  label_id\n",
       "0  Em được làm fan cứng luôn rồi nè ❤️ reaction q...         0\n",
       "1  Đúng là bọn mắt híp lò xo thụt :))) bên việt n...         2\n",
       "2           Đậu Văn Cường giờ giống thằng sida hơn à         0\n",
       "3  CÔN ĐỒ CỤC SÚC VÔ NHÂN TÍNH ĐỀ NGHI VN. NHÀ NƯ...         2\n",
       "4  Từ lý thuyết đến thực hành là cả 1 câu chuyện ...         0\n",
       "5                             Coronavirus is manmade         0\n",
       "6                              Đố chúng m nhận ra ai         0\n",
       "7                                  Lúp lúp như chó .         1\n",
       "8                                                🥰🥰🥰         0\n",
       "9  Thế mà mình nói mấy thằng bắc kì, bọn đó lại b...         2"
      ]
     },
     "execution_count": 6,
     "metadata": {},
     "output_type": "execute_result"
    }
   ],
   "source": [
    "train.head(10)"
   ]
  },
  {
   "cell_type": "code",
   "execution_count": null,
   "id": "4fab9a13-e51d-4eba-b75e-39eb58ad0e5d",
   "metadata": {},
   "outputs": [],
   "source": []
  },
  {
   "cell_type": "markdown",
   "id": "2f95f7fd-b006-4743-9960-24f05842bd0e",
   "metadata": {},
   "source": [
    "# II. Data Preprocess"
   ]
  },
  {
   "cell_type": "code",
   "execution_count": null,
   "id": "b78bf2eb-c512-41b5-8d81-d002079e5bf2",
   "metadata": {},
   "outputs": [],
   "source": []
  },
  {
   "cell_type": "markdown",
   "id": "df15bf67-917e-4fe0-8a3e-32c3e6582df2",
   "metadata": {},
   "source": [
    "# III. Modelling"
   ]
  },
  {
   "cell_type": "code",
   "execution_count": null,
   "id": "43b0792f-d61e-49ad-b098-7a0a0bcb5419",
   "metadata": {},
   "outputs": [],
   "source": [
    "dasdasd"
   ]
  },
  {
   "cell_type": "code",
   "execution_count": null,
   "id": "1bdf9a5e-7ef9-4c0a-b7e7-890681720609",
   "metadata": {},
   "outputs": [],
   "source": []
  }
 ],
 "metadata": {
  "kernelspec": {
   "display_name": "Python 3 (ipykernel)",
   "language": "python",
   "name": "python3"
  },
  "language_info": {
   "codemirror_mode": {
    "name": "ipython",
    "version": 3
   },
   "file_extension": ".py",
   "mimetype": "text/x-python",
   "name": "python",
   "nbconvert_exporter": "python",
   "pygments_lexer": "ipython3",
   "version": "3.12.2"
  }
 },
 "nbformat": 4,
 "nbformat_minor": 5
}
